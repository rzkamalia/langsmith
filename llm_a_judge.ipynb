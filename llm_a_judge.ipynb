{
 "cells": [
  {
   "cell_type": "code",
   "execution_count": 2,
   "metadata": {},
   "outputs": [],
   "source": [
    "import openai\n",
    "import os\n",
    "\n",
    "from dotenv import find_dotenv, load_dotenv\n",
    "\n",
    "\n",
    "_ = load_dotenv(find_dotenv())\n",
    "openai.api_key = os.environ[\"OPENAI_API_KEY\"]\n",
    "\n",
    "MODEL_NAME = os.environ[\"MODEL_NAME\"]"
   ]
  },
  {
   "cell_type": "code",
   "execution_count": null,
   "metadata": {},
   "outputs": [],
   "source": [
    "from openai import OpenAI\n",
    "from pydantic import BaseModel, Field\n",
    "\n",
    "\n",
    "client = OpenAI()\n",
    "\n",
    "\n",
    "class Similarity_Score(BaseModel):\n",
    "    similarity_score: int = Field(description=\"Semantic similarity score between 1 and 10, where 1 means unrelated and 10 means identical.\")\n",
    "\n",
    "\n",
    "def compare_semantic_similarity(inputs: Dict, reference_outputs: Dict, outputs: Dict):\n",
    "    input_question = inputs[\"question\"]\n",
    "    reference_response = reference_outputs[\"output\"]\n",
    "    run_response = outputs[\"output\"]\n",
    "    \n",
    "    completion = client.beta.chat.completions.parse(\n",
    "        model=MODEL_NAME,\n",
    "        messages=[\n",
    "            {   \n",
    "                \"role\": \"system\",\n",
    "                \"content\": (\n",
    "                    \"You are a semantic similarity evaluator. Compare the meanings of two responses to a question, \"\n",
    "                    \"Reference Response and New Response, where the reference is the correct answer, and we are trying to judge if the new response is similar. \"\n",
    "                    \"Provide a score between 1 and 10, where 1 means completely unrelated, and 10 means identical in meaning.\"\n",
    "                ),\n",
    "            },\n",
    "            {\"role\": \"user\", \"content\": f\"Question: {input_question}\\n Reference Response: {reference_response}\\n Run Response: {run_response}\"}\n",
    "        ],\n",
    "        response_format=Similarity_Score,\n",
    "    )\n",
    "\n",
    "    similarity_score = completion.choices[0].message.parsed\n",
    "    return {\"score\": similarity_score.similarity_score, \"key\": \"similarity\"}\n"
   ]
  },
  {
   "cell_type": "code",
   "execution_count": 5,
   "metadata": {},
   "outputs": [
    {
     "name": "stdout",
     "output_type": "stream",
     "text": [
      "Semantic similarity score: {'score': 1, 'key': 'similarity'}\n"
     ]
    }
   ],
   "source": [
    "# from Dataset Example\n",
    "inputs = {\n",
    "\t\"question\": \"Is LangSmith natively integrated with LangChain?\"\n",
    "}\n",
    "reference_outputs = {\n",
    "\t\"output\": \"Yes, LangSmith is natively integrated with LangChain, as well as LangGraph.\"\n",
    "}\n",
    "\n",
    "\n",
    "# from Run\n",
    "outputs = {\n",
    "\t\"output\": \"No, LangSmith is NOT integrated with LangChain.\"\n",
    "}\n",
    "\n",
    "similarity_score = compare_semantic_similarity(inputs, reference_outputs, outputs)\n",
    "print(f\"Semantic similarity score: {similarity_score}\")"
   ]
  },
  {
   "cell_type": "code",
   "execution_count": 6,
   "metadata": {},
   "outputs": [],
   "source": [
    "# you can also define evaluators using Run and Example directly.\n",
    "\n",
    "from langsmith.schemas import Run, Example\n",
    "\n",
    "\n",
    "def compare_semantic_similarity_v2(root_run: Run, example: Example):\n",
    "    input_question = example[\"inputs\"][\"question\"]\n",
    "    reference_response = example[\"outputs\"][\"output\"]\n",
    "    run_response = root_run[\"outputs\"][\"output\"]\n",
    "    \n",
    "    completion = client.beta.chat.completions.parse(\n",
    "        model=MODEL_NAME,\n",
    "        messages=[\n",
    "            {   \n",
    "                \"role\": \"system\",\n",
    "                \"content\": (\n",
    "                    \"You are a semantic similarity evaluator. Compare the meanings of two responses to a question, \"\n",
    "                    \"Reference Response and New Response, where the reference is the correct answer, and we are trying to judge if the new response is similar. \"\n",
    "                    \"Provide a score between 1 and 10, where 1 means completely unrelated, and 10 means identical in meaning.\"\n",
    "                ),\n",
    "            },\n",
    "            {\"role\": \"user\", \"content\": f\"Question: {input_question}\\n Reference Response: {reference_response}\\n Run Response: {run_response}\"}\n",
    "        ],\n",
    "        response_format=Similarity_Score,\n",
    "    )\n",
    "\n",
    "    similarity_score = completion.choices[0].message.parsed\n",
    "    return {\"score\": similarity_score.similarity_score, \"key\": \"similarity\"}"
   ]
  },
  {
   "cell_type": "code",
   "execution_count": 7,
   "metadata": {},
   "outputs": [
    {
     "name": "stdout",
     "output_type": "stream",
     "text": [
      "Semantic similarity score: {'score': 1, 'key': 'similarity'}\n"
     ]
    }
   ],
   "source": [
    "sample_run = {\n",
    "\t\"name\": \"Sample Run\",\n",
    "\t\"inputs\": {\n",
    "\t\t\"question\": \"Is LangSmith natively integrated with LangChain?\"\n",
    "\t},\n",
    "\t\"outputs\": {\n",
    "\t\t\"output\": \"No, LangSmith is NOT integrated with LangChain.\"\n",
    "\t},\n",
    "\t\"is_root\": True,\n",
    "\t\"status\": \"success\",\n",
    "\t\"extra\": {\n",
    "\t\t\"metadata\": {\n",
    "\t\t\"key\": \"value\"\n",
    "\t\t}\n",
    "\t}\n",
    "}\n",
    "\n",
    "sample_example = {\n",
    "\t\"inputs\": {\n",
    "\t\t\"question\": \"Is LangSmith natively integrated with LangChain?\"\n",
    "\t},\n",
    "\t\"outputs\": {\n",
    "\t\t\"output\": \"Yes, LangSmith is natively integrated with LangChain, as well as LangGraph.\"\n",
    "\t},\n",
    "\t\"metadata\": {\n",
    "\t\t\"dataset_split\": [\n",
    "\t\t\"AI generated\",\n",
    "\t\t\"base\"\n",
    "\t\t]\n",
    "\t}\n",
    "}\n",
    "\n",
    "similarity_score = compare_semantic_similarity_v2(sample_run, sample_example)\n",
    "print(f\"Semantic similarity score: {similarity_score}\")"
   ]
  },
  {
   "cell_type": "code",
   "execution_count": null,
   "metadata": {},
   "outputs": [],
   "source": []
  }
 ],
 "metadata": {
  "kernelspec": {
   "display_name": "langchain-venv",
   "language": "python",
   "name": "python3"
  },
  "language_info": {
   "codemirror_mode": {
    "name": "ipython",
    "version": 3
   },
   "file_extension": ".py",
   "mimetype": "text/x-python",
   "name": "python",
   "nbconvert_exporter": "python",
   "pygments_lexer": "ipython3",
   "version": "3.13.0"
  }
 },
 "nbformat": 4,
 "nbformat_minor": 4
}
